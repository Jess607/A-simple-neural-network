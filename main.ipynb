{
 "cells": [
  {
   "attachments": {},
   "cell_type": "markdown",
   "metadata": {},
   "source": [
    "#### We can test the power of our newly created algorithm by running it on a simple regression problem and comparing our results against those gotten from a linear regression model."
   ]
  },
  {
   "cell_type": "code",
   "execution_count": 1,
   "metadata": {},
   "outputs": [],
   "source": [
    "#importing the NN class from the neural model and also other modules like sklearn\n",
    "from neural import NN\n",
    "from sklearn import datasets\n",
    "from sklearn.linear_model import LinearRegression\n",
    "from sklearn import metrics"
   ]
  },
  {
   "attachments": {},
   "cell_type": "markdown",
   "metadata": {},
   "source": [
    "We will be making use of the diabetes dataset present in sklearn."
   ]
  },
  {
   "cell_type": "code",
   "execution_count": 2,
   "metadata": {},
   "outputs": [
    {
     "data": {
      "text/plain": [
       "array([[ 0.03807591,  0.05068012,  0.06169621, ..., -0.00259226,\n",
       "         0.01990749, -0.01764613],\n",
       "       [-0.00188202, -0.04464164, -0.05147406, ..., -0.03949338,\n",
       "        -0.06833155, -0.09220405],\n",
       "       [ 0.08529891,  0.05068012,  0.04445121, ..., -0.00259226,\n",
       "         0.00286131, -0.02593034],\n",
       "       ...,\n",
       "       [ 0.04170844,  0.05068012, -0.01590626, ..., -0.01107952,\n",
       "        -0.04688253,  0.01549073],\n",
       "       [-0.04547248, -0.04464164,  0.03906215, ...,  0.02655962,\n",
       "         0.04452873, -0.02593034],\n",
       "       [-0.04547248, -0.04464164, -0.0730303 , ..., -0.03949338,\n",
       "        -0.00422151,  0.00306441]])"
      ]
     },
     "execution_count": 2,
     "metadata": {},
     "output_type": "execute_result"
    }
   ],
   "source": [
    "#Loading dataset\n",
    "diabetes= datasets.load_diabetes()\n",
    "X = diabetes.data\n",
    "X"
   ]
  },
  {
   "cell_type": "code",
   "execution_count": 3,
   "metadata": {},
   "outputs": [
    {
     "data": {
      "text/plain": [
       "(442, 10)"
      ]
     },
     "execution_count": 3,
     "metadata": {},
     "output_type": "execute_result"
    }
   ],
   "source": [
    "X.shape"
   ]
  },
  {
   "cell_type": "code",
   "execution_count": 4,
   "metadata": {},
   "outputs": [
    {
     "data": {
      "text/plain": [
       "array([151.,  75., 141., 206., 135.,  97., 138.,  63., 110., 310., 101.,\n",
       "        69., 179., 185., 118., 171., 166., 144.,  97., 168.,  68.,  49.,\n",
       "        68., 245., 184., 202., 137.,  85., 131., 283., 129.,  59., 341.,\n",
       "        87.,  65., 102., 265., 276., 252.,  90., 100.,  55.,  61.,  92.,\n",
       "       259.,  53., 190., 142.,  75., 142., 155., 225.,  59., 104., 182.,\n",
       "       128.,  52.,  37., 170., 170.,  61., 144.,  52., 128.,  71., 163.,\n",
       "       150.,  97., 160., 178.,  48., 270., 202., 111.,  85.,  42., 170.,\n",
       "       200., 252., 113., 143.,  51.,  52., 210.,  65., 141.,  55., 134.,\n",
       "        42., 111.,  98., 164.,  48.,  96.,  90., 162., 150., 279.,  92.,\n",
       "        83., 128., 102., 302., 198.,  95.,  53., 134., 144., 232.,  81.,\n",
       "       104.,  59., 246., 297., 258., 229., 275., 281., 179., 200., 200.,\n",
       "       173., 180.,  84., 121., 161.,  99., 109., 115., 268., 274., 158.,\n",
       "       107.,  83., 103., 272.,  85., 280., 336., 281., 118., 317., 235.,\n",
       "        60., 174., 259., 178., 128.,  96., 126., 288.,  88., 292.,  71.,\n",
       "       197., 186.,  25.,  84.,  96., 195.,  53., 217., 172., 131., 214.,\n",
       "        59.,  70., 220., 268., 152.,  47.,  74., 295., 101., 151., 127.,\n",
       "       237., 225.,  81., 151., 107.,  64., 138., 185., 265., 101., 137.,\n",
       "       143., 141.,  79., 292., 178.,  91., 116.,  86., 122.,  72., 129.,\n",
       "       142.,  90., 158.,  39., 196., 222., 277.,  99., 196., 202., 155.,\n",
       "        77., 191.,  70.,  73.,  49.,  65., 263., 248., 296., 214., 185.,\n",
       "        78.,  93., 252., 150.,  77., 208.,  77., 108., 160.,  53., 220.,\n",
       "       154., 259.,  90., 246., 124.,  67.,  72., 257., 262., 275., 177.,\n",
       "        71.,  47., 187., 125.,  78.,  51., 258., 215., 303., 243.,  91.,\n",
       "       150., 310., 153., 346.,  63.,  89.,  50.,  39., 103., 308., 116.,\n",
       "       145.,  74.,  45., 115., 264.,  87., 202., 127., 182., 241.,  66.,\n",
       "        94., 283.,  64., 102., 200., 265.,  94., 230., 181., 156., 233.,\n",
       "        60., 219.,  80.,  68., 332., 248.,  84., 200.,  55.,  85.,  89.,\n",
       "        31., 129.,  83., 275.,  65., 198., 236., 253., 124.,  44., 172.,\n",
       "       114., 142., 109., 180., 144., 163., 147.,  97., 220., 190., 109.,\n",
       "       191., 122., 230., 242., 248., 249., 192., 131., 237.,  78., 135.,\n",
       "       244., 199., 270., 164.,  72.,  96., 306.,  91., 214.,  95., 216.,\n",
       "       263., 178., 113., 200., 139., 139.,  88., 148.,  88., 243.,  71.,\n",
       "        77., 109., 272.,  60.,  54., 221.,  90., 311., 281., 182., 321.,\n",
       "        58., 262., 206., 233., 242., 123., 167.,  63., 197.,  71., 168.,\n",
       "       140., 217., 121., 235., 245.,  40.,  52., 104., 132.,  88.,  69.,\n",
       "       219.,  72., 201., 110.,  51., 277.,  63., 118.,  69., 273., 258.,\n",
       "        43., 198., 242., 232., 175.,  93., 168., 275., 293., 281.,  72.,\n",
       "       140., 189., 181., 209., 136., 261., 113., 131., 174., 257.,  55.,\n",
       "        84.,  42., 146., 212., 233.,  91., 111., 152., 120.,  67., 310.,\n",
       "        94., 183.,  66., 173.,  72.,  49.,  64.,  48., 178., 104., 132.,\n",
       "       220.,  57.])"
      ]
     },
     "execution_count": 4,
     "metadata": {},
     "output_type": "execute_result"
    }
   ],
   "source": [
    "y = diabetes.target\n",
    "y"
   ]
  },
  {
   "cell_type": "code",
   "execution_count": 5,
   "metadata": {},
   "outputs": [
    {
     "data": {
      "text/plain": [
       "(442,)"
      ]
     },
     "execution_count": 5,
     "metadata": {},
     "output_type": "execute_result"
    }
   ],
   "source": [
    "y.shape"
   ]
  },
  {
   "attachments": {},
   "cell_type": "markdown",
   "metadata": {},
   "source": [
    "Trying out the NN algorithm first. The class has two prominent methods; one that returns the weights, bias and mean_squared_error after each epoch of the gradient descent step and another method that plots the mean_squared_error against every iterative step specified as an argument. "
   ]
  },
  {
   "cell_type": "code",
   "execution_count": 20,
   "metadata": {},
   "outputs": [
    {
     "name": "stdout",
     "output_type": "stream",
     "text": [
      "The weights are [-1.32938667 -4.29766141  5.16686939  1.40856394 -6.61298378 -5.98315898\n",
      " -3.26871676  0.01606777  2.92964555 -1.83937239]\n",
      "\n",
      "The bias is [678.75364619]\n",
      "\n",
      "The mean squared error for 0 iteration is 29031.072333137996\n",
      "The mean squared error for 1 iteration is 29026.2107700062\n",
      "The mean squared error for 2 iteration is 28897.37724112519\n",
      "The mean squared error for 3 iteration is 28769.176846908682\n",
      "The mean squared error for 4 iteration is 28641.79938459401\n",
      "The mean squared error for 5 iteration is 28515.228163429845\n",
      "The mean squared error for 6 iteration is 28389.50736678704\n",
      "The mean squared error for 7 iteration is 28264.63505562143\n",
      "The mean squared error for 8 iteration is 28140.607263895665\n",
      "The mean squared error for 9 iteration is 28017.407818498075\n",
      "The mean squared error for 10 iteration is 27895.04255783186\n",
      "The mean squared error for 11 iteration is 27773.50900038782\n",
      "The mean squared error for 12 iteration is 27652.80289898949\n",
      "The mean squared error for 13 iteration is 27532.920026211443\n",
      "The mean squared error for 14 iteration is 27413.856174290984\n",
      "The mean squared error for 15 iteration is 27295.60715504023\n",
      "The mean squared error for 16 iteration is 27178.168799758576\n",
      "The mean squared error for 17 iteration is 27061.53607280046\n",
      "The mean squared error for 18 iteration is 26945.704028709664\n",
      "The mean squared error for 19 iteration is 26830.67028603615\n",
      "The mean squared error for 20 iteration is 26716.430752788052\n",
      "The mean squared error for 21 iteration is 26602.981356032396\n",
      "The mean squared error for 22 iteration is 26490.317868698086\n",
      "The mean squared error for 23 iteration is 26378.43528627398\n",
      "The mean squared error for 24 iteration is 26267.3307539214\n",
      "The mean squared error for 25 iteration is 26157.00027396406\n",
      "The mean squared error for 26 iteration is 26047.439867363304\n",
      "The mean squared error for 27 iteration is 25938.645573634658\n",
      "The mean squared error for 28 iteration is 25830.613450764777\n",
      "The mean squared error for 29 iteration is 25723.33957512872\n",
      "The mean squared error for 30 iteration is 25616.82004140766\n",
      "The mean squared error for 31 iteration is 25511.050962506848\n",
      "The mean squared error for 32 iteration is 25406.028469474037\n",
      "The mean squared error for 33 iteration is 25301.748711418222\n",
      "The mean squared error for 34 iteration is 25198.207855428725\n",
      "The mean squared error for 35 iteration is 25095.402086494654\n",
      "The mean squared error for 36 iteration is 24993.32760742471\n",
      "The mean squared error for 37 iteration is 24891.98063876739\n",
      "The mean squared error for 38 iteration is 24791.357418731423\n",
      "The mean squared error for 39 iteration is 24691.45420310669\n",
      "The mean squared error for 40 iteration is 24592.267265185415\n",
      "The mean squared error for 41 iteration is 24493.792895683735\n",
      "The mean squared error for 42 iteration is 24396.02740266359\n",
      "The mean squared error for 43 iteration is 24298.967111454942\n",
      "The mean squared error for 44 iteration is 24202.608364578413\n",
      "The mean squared error for 45 iteration is 24106.947521668197\n",
      "The mean squared error for 46 iteration is 24011.980959395278\n",
      "The mean squared error for 47 iteration is 23917.705071391094\n",
      "The mean squared error for 48 iteration is 23824.11626817146\n",
      "The mean squared error for 49 iteration is 23731.21097706081\n",
      "The mean squared error for 50 iteration is 23638.985642116844\n",
      "The mean squared error for 51 iteration is 23547.436724055442\n",
      "The mean squared error for 52 iteration is 23456.56070017595\n",
      "The mean squared error for 53 iteration is 23366.35406428675\n",
      "The mean squared error for 54 iteration is 23276.813326631207\n",
      "The mean squared error for 55 iteration is 23187.935013813916\n",
      "The mean squared error for 56 iteration is 23099.715668727276\n",
      "The mean squared error for 57 iteration is 23012.151850478367\n",
      "The mean squared error for 58 iteration is 22925.2401343162\n",
      "The mean squared error for 59 iteration is 22838.97711155924\n",
      "The mean squared error for 60 iteration is 22753.359389523255\n",
      "The mean squared error for 61 iteration is 22668.383591449518\n",
      "The mean squared error for 62 iteration is 22584.046356433268\n",
      "The mean squared error for 63 iteration is 22500.344339352534\n",
      "The mean squared error for 64 iteration is 22417.274210797255\n",
      "The mean squared error for 65 iteration is 22334.832656998697\n",
      "The mean squared error for 66 iteration is 22253.016379759207\n",
      "The mean squared error for 67 iteration is 22171.822096382264\n",
      "The mean squared error for 68 iteration is 22091.246539602824\n",
      "The mean squared error for 69 iteration is 22011.286457518007\n",
      "The mean squared error for 70 iteration is 21931.93861351805\n",
      "The mean squared error for 71 iteration is 21853.19978621758\n",
      "The mean squared error for 72 iteration is 21775.066769387206\n",
      "The mean squared error for 73 iteration is 21697.536371885377\n",
      "The mean squared error for 74 iteration is 21620.605417590574\n",
      "The mean squared error for 75 iteration is 21544.270745333786\n",
      "The mean squared error for 76 iteration is 21468.52920883129\n",
      "The mean squared error for 77 iteration is 21393.377676617678\n",
      "The mean squared error for 78 iteration is 21318.813031979287\n",
      "The mean squared error for 79 iteration is 21244.832172887796\n",
      "The mean squared error for 80 iteration is 21171.432011934234\n",
      "The mean squared error for 81 iteration is 21098.608853813854\n",
      "The mean squared error for 82 iteration is 21026.35960886881\n",
      "The mean squared error for 83 iteration is 20954.681895268197\n",
      "The mean squared error for 84 iteration is 20883.57268338304\n",
      "The mean squared error for 85 iteration is 20813.02895787808\n",
      "The mean squared error for 86 iteration is 20743.04771764749\n",
      "The mean squared error for 87 iteration is 20673.625975750794\n",
      "The mean squared error for 88 iteration is 20604.76075934913\n",
      "The mean squared error for 89 iteration is 20536.44910964175\n",
      "The mean squared error for 90 iteration is 20468.688081802862\n",
      "The mean squared error for 91 iteration is 20401.474744918636\n",
      "The mean squared error for 92 iteration is 20334.80618192464\n",
      "The mean squared error for 93 iteration is 20268.679489543403\n",
      "The mean squared error for 94 iteration is 20203.091778222355\n",
      "The mean squared error for 95 iteration is 20138.04017207201\n",
      "The mean squared error for 96 iteration is 20073.52180880441\n",
      "The mean squared error for 97 iteration is 20009.53383967183\n",
      "The mean squared error for 98 iteration is 19946.073429405806\n",
      "The mean squared error for 99 iteration is 19883.137756156368\n",
      "The mean squared error for 100 iteration is 19820.72401143158\n",
      "The mean squared error for 101 iteration is 19758.829400037346\n",
      "The mean squared error for 102 iteration is 19697.451140017452\n",
      "The mean squared error for 103 iteration is 19636.586462593903\n",
      "The mean squared error for 104 iteration is 19576.232612107528\n",
      "The mean squared error for 105 iteration is 19516.386845958783\n",
      "The mean squared error for 106 iteration is 19457.046434548916\n",
      "The mean squared error for 107 iteration is 19398.208661221313\n",
      "The mean squared error for 108 iteration is 19339.870822203116\n",
      "The mean squared error for 109 iteration is 19282.030226547144\n",
      "The mean squared error for 110 iteration is 19224.684196073988\n",
      "The mean squared error for 111 iteration is 19167.830065314476\n",
      "The mean squared error for 112 iteration is 19111.465181452244\n",
      "The mean squared error for 113 iteration is 19055.586904266707\n",
      "The mean squared error for 114 iteration is 19000.192606076205\n",
      "The mean squared error for 115 iteration is 18945.27967168136\n",
      "The mean squared error for 116 iteration is 18890.845498308805\n",
      "The mean squared error for 117 iteration is 18836.887495555053\n",
      "The mean squared error for 118 iteration is 18783.40308533064\n",
      "The mean squared error for 119 iteration is 18730.38970180454\n",
      "The mean squared error for 120 iteration is 18677.84479134882\n",
      "The mean squared error for 121 iteration is 18625.76581248351\n",
      "The mean squared error for 122 iteration is 18574.15023582175\n",
      "The mean squared error for 123 iteration is 18522.995544015143\n",
      "The mean squared error for 124 iteration is 18472.299231699395\n",
      "The mean squared error for 125 iteration is 18422.058805440152\n",
      "The mean squared error for 126 iteration is 18372.271783679123\n",
      "The mean squared error for 127 iteration is 18322.935696680364\n",
      "The mean squared error for 128 iteration is 18274.04808647689\n",
      "The mean squared error for 129 iteration is 18225.60650681746\n",
      "The mean squared error for 130 iteration is 18177.608523113628\n",
      "The mean squared error for 131 iteration is 18130.051712386994\n",
      "The mean squared error for 132 iteration is 18082.93366321674\n",
      "The mean squared error for 133 iteration is 18036.25197568735\n",
      "The mean squared error for 134 iteration is 17990.004261336577\n",
      "The mean squared error for 135 iteration is 17944.188143103645\n",
      "The mean squared error for 136 iteration is 17898.801255277685\n",
      "The mean squared error for 137 iteration is 17853.84124344638\n",
      "The mean squared error for 138 iteration is 17809.305764444838\n",
      "The mean squared error for 139 iteration is 17765.192486304724\n",
      "The mean squared error for 140 iteration is 17721.499088203567\n",
      "The mean squared error for 141 iteration is 17678.22326041432\n",
      "The mean squared error for 142 iteration is 17635.362704255167\n",
      "The mean squared error for 143 iteration is 17592.91513203948\n",
      "The mean squared error for 144 iteration is 17550.878267026066\n",
      "The mean squared error for 145 iteration is 17509.249843369602\n",
      "The mean squared error for 146 iteration is 17468.027606071293\n",
      "The mean squared error for 147 iteration is 17427.209310929757\n",
      "The mean squared error for 148 iteration is 17386.79272449211\n",
      "The mean squared error for 149 iteration is 17346.775624005284\n",
      "The mean squared error for 150 iteration is 17307.15579736755\n",
      "The mean squared error for 151 iteration is 17267.931043080258\n",
      "The mean squared error for 152 iteration is 17229.099170199792\n",
      "The mean squared error for 153 iteration is 17190.657998289727\n",
      "The mean squared error for 154 iteration is 17152.605357373228\n",
      "The mean squared error for 155 iteration is 17114.93908788561\n",
      "The mean squared error for 156 iteration is 17077.65704062716\n",
      "The mean squared error for 157 iteration is 17040.757076716116\n",
      "The mean squared error for 158 iteration is 17004.237067541915\n",
      "The mean squared error for 159 iteration is 16968.09489471857\n",
      "The mean squared error for 160 iteration is 16932.328450038345\n",
      "The mean squared error for 161 iteration is 16896.935635425543\n",
      "The mean squared error for 162 iteration is 16861.914362890562\n",
      "The mean squared error for 163 iteration is 16827.262554484143\n",
      "The mean squared error for 164 iteration is 16792.978142251777\n",
      "The mean squared error for 165 iteration is 16759.05906818839\n",
      "The mean squared error for 166 iteration is 16725.503284193157\n",
      "The mean squared error for 167 iteration is 16692.30875202454\n",
      "The mean squared error for 168 iteration is 16659.47344325556\n",
      "The mean squared error for 169 iteration is 16626.995339229212\n",
      "The mean squared error for 170 iteration is 16594.872431014104\n",
      "The mean squared error for 171 iteration is 16563.10271936029\n",
      "The mean squared error for 172 iteration is 16531.684214655306\n",
      "The mean squared error for 173 iteration is 16500.614936880393\n",
      "The mean squared error for 174 iteration is 16469.892915566892\n",
      "The mean squared error for 175 iteration is 16439.516189752878\n",
      "The mean squared error for 176 iteration is 16409.482807939952\n",
      "The mean squared error for 177 iteration is 16379.790828050236\n",
      "The mean squared error for 178 iteration is 16350.43831738354\n",
      "The mean squared error for 179 iteration is 16321.423352574751\n",
      "The mean squared error for 180 iteration is 16292.744019551394\n",
      "The mean squared error for 181 iteration is 16264.39841349137\n",
      "The mean squared error for 182 iteration is 16236.384638780894\n",
      "The mean squared error for 183 iteration is 16208.70080897262\n",
      "The mean squared error for 184 iteration is 16181.34504674395\n",
      "The mean squared error for 185 iteration is 16154.315483855517\n",
      "The mean squared error for 186 iteration is 16127.610261109865\n",
      "The mean squared error for 187 iteration is 16101.227528310314\n",
      "The mean squared error for 188 iteration is 16075.16544421998\n",
      "The mean squared error for 189 iteration is 16049.422176521024\n",
      "The mean squared error for 190 iteration is 16023.995901774033\n",
      "The mean squared error for 191 iteration is 15998.884805377613\n",
      "The mean squared error for 192 iteration is 15974.087081528136\n",
      "The mean squared error for 193 iteration is 15949.600933179707\n",
      "The mean squared error for 194 iteration is 15925.424572004247\n",
      "The mean squared error for 195 iteration is 15901.556218351812\n",
      "The mean squared error for 196 iteration is 15877.994101211047\n",
      "The mean squared error for 197 iteration is 15854.736458169837\n",
      "The mean squared error for 198 iteration is 15831.78153537613\n",
      "The mean squared error for 199 iteration is 15809.12758749891\n",
      "The mean squared error for 200 iteration is 15786.772877689385\n",
      "The mean squared error for 201 iteration is 15764.715677542314\n",
      "The mean squared error for 202 iteration is 15742.954267057514\n",
      "The mean squared error for 203 iteration is 15721.486934601542\n",
      "The mean squared error for 204 iteration is 15700.311976869538\n",
      "The mean squared error for 205 iteration is 15679.427698847252\n",
      "The mean squared error for 206 iteration is 15658.832413773218\n",
      "The mean squared error for 207 iteration is 15638.52444310113\n",
      "The mean squared error for 208 iteration is 15618.50211646233\n",
      "The mean squared error for 209 iteration is 15598.763771628524\n",
      "The mean squared error for 210 iteration is 15579.30775447462\n",
      "The mean squared error for 211 iteration is 15560.132418941737\n",
      "The mean squared error for 212 iteration is 15541.236127000417\n",
      "The mean squared error for 213 iteration is 15522.61724861393\n",
      "The mean squared error for 214 iteration is 15504.27416170181\n",
      "The mean squared error for 215 iteration is 15486.2052521035\n",
      "The mean squared error for 216 iteration is 15468.408913542213\n",
      "The mean squared error for 217 iteration is 15450.88354758888\n",
      "The mean squared error for 218 iteration is 15433.627372234534\n",
      "The mean squared error for 219 iteration is 15416.638032160869\n",
      "The mean squared error for 220 iteration is 15399.914906720236\n",
      "The mean squared error for 221 iteration is 15383.456428515887\n",
      "The mean squared error for 222 iteration is 15367.261037820947\n",
      "The mean squared error for 223 iteration is 15351.327182543364\n",
      "The mean squared error for 224 iteration is 15335.653318191004\n",
      "The mean squared error for 225 iteration is 15320.237907836881\n",
      "The mean squared error for 226 iteration is 15305.079422084595\n",
      "The mean squared error for 227 iteration is 15290.176339033871\n",
      "The mean squared error for 228 iteration is 15275.527144246269\n",
      "The mean squared error for 229 iteration is 15261.130330711057\n",
      "The mean squared error for 230 iteration is 15246.984398811217\n",
      "The mean squared error for 231 iteration is 15233.087856289618\n",
      "The mean squared error for 232 iteration is 15219.439218215333\n",
      "The mean squared error for 233 iteration is 15206.037006950091\n",
      "The mean squared error for 234 iteration is 15192.879752114914\n",
      "The mean squared error for 235 iteration is 15179.96599055686\n",
      "The mean squared error for 236 iteration is 15167.294266315941\n",
      "The mean squared error for 237 iteration is 15154.863130592183\n",
      "The mean squared error for 238 iteration is 15142.671141712819\n",
      "The mean squared error for 239 iteration is 15130.716865099652\n",
      "The mean squared error for 240 iteration is 15118.99887323654\n",
      "The mean squared error for 241 iteration is 15107.515745637042\n",
      "The mean squared error for 242 iteration is 15096.266068812189\n",
      "The mean squared error for 243 iteration is 15085.24843623842\n",
      "The mean squared error for 244 iteration is 15074.461448325637\n",
      "The mean squared error for 245 iteration is 15063.90371238544\n",
      "The mean squared error for 246 iteration is 15053.573842599444\n",
      "The mean squared error for 247 iteration is 15043.470459987797\n",
      "The mean squared error for 248 iteration is 15033.592192377799\n",
      "The mean squared error for 249 iteration is 15023.937674372677\n",
      "The mean squared error for 250 iteration is 15014.505547320497\n",
      "The mean squared error for 251 iteration is 15005.294459283206\n",
      "The mean squared error for 252 iteration is 14996.303065005815\n",
      "The mean squared error for 253 iteration is 14987.53002588574\n",
      "The mean squared error for 254 iteration is 14978.97400994224\n",
      "The mean squared error for 255 iteration is 14970.633691786012\n",
      "The mean squared error for 256 iteration is 14962.507752588943\n",
      "The mean squared error for 257 iteration is 14954.594880053948\n",
      "The mean squared error for 258 iteration is 14946.893768384982\n",
      "The mean squared error for 259 iteration is 14939.403118257176\n",
      "The mean squared error for 260 iteration is 14932.121636787086\n",
      "The mean squared error for 261 iteration is 14925.048037503106\n",
      "The mean squared error for 262 iteration is 14918.181040315978\n",
      "The mean squared error for 263 iteration is 14911.51937148948\n",
      "The mean squared error for 264 iteration is 14905.06176361118\n",
      "The mean squared error for 265 iteration is 14898.806955563394\n",
      "The mean squared error for 266 iteration is 14892.753692494201\n",
      "The mean squared error for 267 iteration is 14886.90072578864\n",
      "The mean squared error for 268 iteration is 14881.246813040018\n",
      "The mean squared error for 269 iteration is 14875.790718021331\n",
      "The mean squared error for 270 iteration is 14870.53121065684\n",
      "The mean squared error for 271 iteration is 14865.467066993748\n",
      "The mean squared error for 272 iteration is 14860.597069174024\n",
      "The mean squared error for 273 iteration is 14855.920005406322\n",
      "The mean squared error for 274 iteration is 14851.434669938073\n",
      "The mean squared error for 275 iteration is 14847.139863027649\n",
      "The mean squared error for 276 iteration is 14843.034390916695\n",
      "The mean squared error for 277 iteration is 14839.11706580255\n",
      "The mean squared error for 278 iteration is 14835.386705810808\n",
      "The mean squared error for 279 iteration is 14831.842134968007\n",
      "The mean squared error for 280 iteration is 14828.48218317442\n",
      "The mean squared error for 281 iteration is 14825.305686176987\n",
      "The mean squared error for 282 iteration is 14822.311485542361\n",
      "The mean squared error for 283 iteration is 14819.498428630048\n",
      "The mean squared error for 284 iteration is 14816.86536856573\n",
      "The mean squared error for 285 iteration is 14814.411164214629\n",
      "The mean squared error for 286 iteration is 14812.134680155055\n",
      "The mean squared error for 287 iteration is 14810.034786652035\n",
      "The mean squared error for 288 iteration is 14808.110359631068\n",
      "The mean squared error for 289 iteration is 14806.360280651992\n",
      "The mean squared error for 290 iteration is 14804.783436882997\n",
      "The mean squared error for 291 iteration is 14803.378721074701\n",
      "The mean squared error for 292 iteration is 14802.145031534394\n",
      "The mean squared error for 293 iteration is 14801.08127210036\n",
      "The mean squared error for 294 iteration is 14800.186352116341\n",
      "The mean squared error for 295 iteration is 14799.459186406082\n",
      "The mean squared error for 296 iteration is 14798.89869524803\n",
      "The mean squared error for 297 iteration is 14798.503804350104\n",
      "The mean squared error for 298 iteration is 14798.273444824616\n",
      "The mean squared error for 299 iteration is 14798.206553163276\n"
     ]
    }
   ],
   "source": [
    "#Instantiating the NN class \n",
    "model_nn=NN(X,y)\n",
    "#Using 300 iterations with a learn_rate of 0.01\n",
    "weights,bias,mean_squared_error=model_nn.fit(300,0.01)\n",
    "print(f'The weights are {weights}')\n",
    "print()\n",
    "print(f'The bias is {bias}')\n",
    "print()\n",
    "for i in range(len(mean_squared_error)):\n",
    "    print(f'The mean squared error for {i} iteration is {mean_squared_error[i]}')\n"
   ]
  },
  {
   "attachments": {},
   "cell_type": "markdown",
   "metadata": {},
   "source": [
    "Our results show a drop in mean_squared_error with every new iterative step taken. To further explore this, we will visualize using the `plot_mse` method that takes in number of iterations and learn rate as arguments."
   ]
  },
  {
   "cell_type": "code",
   "execution_count": 19,
   "metadata": {},
   "outputs": [
    {
     "data": {
      "image/png": "[encoded data removed]",
      "text/plain": [
       "<Figure size 500x1000 with 1 Axes>"
      ]
     },
     "metadata": {},
     "output_type": "display_data"
    }
   ],
   "source": [
    "model_nn.plot_mse(300,0.01)"
   ]
  },
  {
   "attachments": {},
   "cell_type": "markdown",
   "metadata": {},
   "source": [
    "From our plot, there is an obvious drop in mean squared error with the value settling at about 14798 which is the global minima.\n",
    "\n"
   ]
  },
  {
   "attachments": {},
   "cell_type": "markdown",
   "metadata": {},
   "source": [
    "Next, we will try the linear regression class from sklearn"
   ]
  },
  {
   "cell_type": "code",
   "execution_count": 8,
   "metadata": {},
   "outputs": [],
   "source": [
    "#Instantiating the class and fitting the model\n",
    "model_lr=LinearRegression()\n",
    "model_lr.fit(X,y)\n",
    "y_pred=model_lr.predict(X)\n"
   ]
  },
  {
   "cell_type": "code",
   "execution_count": 9,
   "metadata": {},
   "outputs": [
    {
     "name": "stdout",
     "output_type": "stream",
     "text": [
      "2859.69634758675\n"
     ]
    }
   ],
   "source": [
    "print(metrics.mean_squared_error(y,y_pred))"
   ]
  },
  {
   "cell_type": "markdown",
   "metadata": {},
   "source": []
  }
 ],
 "metadata": {
  "kernelspec": {
   "display_name": "neural-network",
   "language": "python",
   "name": "python3"
  },
  "language_info": {
   "codemirror_mode": {
    "name": "ipython",
    "version": 3
   },
   "file_extension": ".py",
   "mimetype": "text/x-python",
   "name": "python",
   "nbconvert_exporter": "python",
   "pygments_lexer": "ipython3",
   "version": "3.10.0"
  },
  "orig_nbformat": 4,
  "vscode": {
   "interpreter": {
    "hash": "9d37dac78cb704ea52072fba3d429b47266bff511f0cc2894a20bd162f9c0125"
   }
  }
 },
 "nbformat": 4,
 "nbformat_minor": 2
}
