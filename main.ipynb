{
 "cells": [
  {
   "attachments": {},
   "cell_type": "markdown",
   "metadata": {},
   "source": [
    "#### We can test the power of our newly created algorithm by running it on a simple regression problem and comparing our results against those gotten from a linear regression model."
   ]
  },
  {
   "cell_type": "code",
   "execution_count": 18,
   "metadata": {},
   "outputs": [],
   "source": [
    "#importing the NN class from the neural model and also other modules like sklearn\n",
    "from neural import NN\n",
    "from sklearn import datasets\n",
    "from sklearn.linear_model import LinearRegression\n",
    "from sklearn import metrics"
   ]
  },
  {
   "attachments": {},
   "cell_type": "markdown",
   "metadata": {},
   "source": [
    "We will be making use of the diabetes dataset present in sklearn."
   ]
  },
  {
   "cell_type": "code",
   "execution_count": 3,
   "metadata": {},
   "outputs": [
    {
     "data": {
      "text/plain": [
       "array([[ 0.03807591,  0.05068012,  0.06169621, ..., -0.00259226,\n",
       "         0.01990749, -0.01764613],\n",
       "       [-0.00188202, -0.04464164, -0.05147406, ..., -0.03949338,\n",
       "        -0.06833155, -0.09220405],\n",
       "       [ 0.08529891,  0.05068012,  0.04445121, ..., -0.00259226,\n",
       "         0.00286131, -0.02593034],\n",
       "       ...,\n",
       "       [ 0.04170844,  0.05068012, -0.01590626, ..., -0.01107952,\n",
       "        -0.04688253,  0.01549073],\n",
       "       [-0.04547248, -0.04464164,  0.03906215, ...,  0.02655962,\n",
       "         0.04452873, -0.02593034],\n",
       "       [-0.04547248, -0.04464164, -0.0730303 , ..., -0.03949338,\n",
       "        -0.00422151,  0.00306441]])"
      ]
     },
     "execution_count": 3,
     "metadata": {},
     "output_type": "execute_result"
    }
   ],
   "source": [
    "#Loading dataset\n",
    "diabetes= datasets.load_diabetes()\n",
    "X = diabetes.data\n",
    "X"
   ]
  },
  {
   "cell_type": "code",
   "execution_count": 4,
   "metadata": {},
   "outputs": [
    {
     "data": {
      "text/plain": [
       "(442, 10)"
      ]
     },
     "execution_count": 4,
     "metadata": {},
     "output_type": "execute_result"
    }
   ],
   "source": [
    "X.shape"
   ]
  },
  {
   "cell_type": "code",
   "execution_count": 7,
   "metadata": {},
   "outputs": [
    {
     "data": {
      "text/plain": [
       "array([151.,  75., 141., 206., 135.,  97., 138.,  63., 110., 310., 101.,\n",
       "        69., 179., 185., 118., 171., 166., 144.,  97., 168.,  68.,  49.,\n",
       "        68., 245., 184., 202., 137.,  85., 131., 283., 129.,  59., 341.,\n",
       "        87.,  65., 102., 265., 276., 252.,  90., 100.,  55.,  61.,  92.,\n",
       "       259.,  53., 190., 142.,  75., 142., 155., 225.,  59., 104., 182.,\n",
       "       128.,  52.,  37., 170., 170.,  61., 144.,  52., 128.,  71., 163.,\n",
       "       150.,  97., 160., 178.,  48., 270., 202., 111.,  85.,  42., 170.,\n",
       "       200., 252., 113., 143.,  51.,  52., 210.,  65., 141.,  55., 134.,\n",
       "        42., 111.,  98., 164.,  48.,  96.,  90., 162., 150., 279.,  92.,\n",
       "        83., 128., 102., 302., 198.,  95.,  53., 134., 144., 232.,  81.,\n",
       "       104.,  59., 246., 297., 258., 229., 275., 281., 179., 200., 200.,\n",
       "       173., 180.,  84., 121., 161.,  99., 109., 115., 268., 274., 158.,\n",
       "       107.,  83., 103., 272.,  85., 280., 336., 281., 118., 317., 235.,\n",
       "        60., 174., 259., 178., 128.,  96., 126., 288.,  88., 292.,  71.,\n",
       "       197., 186.,  25.,  84.,  96., 195.,  53., 217., 172., 131., 214.,\n",
       "        59.,  70., 220., 268., 152.,  47.,  74., 295., 101., 151., 127.,\n",
       "       237., 225.,  81., 151., 107.,  64., 138., 185., 265., 101., 137.,\n",
       "       143., 141.,  79., 292., 178.,  91., 116.,  86., 122.,  72., 129.,\n",
       "       142.,  90., 158.,  39., 196., 222., 277.,  99., 196., 202., 155.,\n",
       "        77., 191.,  70.,  73.,  49.,  65., 263., 248., 296., 214., 185.,\n",
       "        78.,  93., 252., 150.,  77., 208.,  77., 108., 160.,  53., 220.,\n",
       "       154., 259.,  90., 246., 124.,  67.,  72., 257., 262., 275., 177.,\n",
       "        71.,  47., 187., 125.,  78.,  51., 258., 215., 303., 243.,  91.,\n",
       "       150., 310., 153., 346.,  63.,  89.,  50.,  39., 103., 308., 116.,\n",
       "       145.,  74.,  45., 115., 264.,  87., 202., 127., 182., 241.,  66.,\n",
       "        94., 283.,  64., 102., 200., 265.,  94., 230., 181., 156., 233.,\n",
       "        60., 219.,  80.,  68., 332., 248.,  84., 200.,  55.,  85.,  89.,\n",
       "        31., 129.,  83., 275.,  65., 198., 236., 253., 124.,  44., 172.,\n",
       "       114., 142., 109., 180., 144., 163., 147.,  97., 220., 190., 109.,\n",
       "       191., 122., 230., 242., 248., 249., 192., 131., 237.,  78., 135.,\n",
       "       244., 199., 270., 164.,  72.,  96., 306.,  91., 214.,  95., 216.,\n",
       "       263., 178., 113., 200., 139., 139.,  88., 148.,  88., 243.,  71.,\n",
       "        77., 109., 272.,  60.,  54., 221.,  90., 311., 281., 182., 321.,\n",
       "        58., 262., 206., 233., 242., 123., 167.,  63., 197.,  71., 168.,\n",
       "       140., 217., 121., 235., 245.,  40.,  52., 104., 132.,  88.,  69.,\n",
       "       219.,  72., 201., 110.,  51., 277.,  63., 118.,  69., 273., 258.,\n",
       "        43., 198., 242., 232., 175.,  93., 168., 275., 293., 281.,  72.,\n",
       "       140., 189., 181., 209., 136., 261., 113., 131., 174., 257.,  55.,\n",
       "        84.,  42., 146., 212., 233.,  91., 111., 152., 120.,  67., 310.,\n",
       "        94., 183.,  66., 173.,  72.,  49.,  64.,  48., 178., 104., 132.,\n",
       "       220.,  57.])"
      ]
     },
     "execution_count": 7,
     "metadata": {},
     "output_type": "execute_result"
    }
   ],
   "source": [
    "y = diabetes.target\n",
    "y"
   ]
  },
  {
   "cell_type": "code",
   "execution_count": 6,
   "metadata": {},
   "outputs": [
    {
     "data": {
      "text/plain": [
       "(442,)"
      ]
     },
     "execution_count": 6,
     "metadata": {},
     "output_type": "execute_result"
    }
   ],
   "source": [
    "y.shape"
   ]
  },
  {
   "attachments": {},
   "cell_type": "markdown",
   "metadata": {},
   "source": [
    "Trying out the NN algorithm first. The class has two prominent methods; one that returns the weights, bias and mean_squared_error after each epoch of the gradient descent step and another method that plots the mean_squared_error against every iterative step specified as an argument. "
   ]
  },
  {
   "cell_type": "code",
   "execution_count": 24,
   "metadata": {},
   "outputs": [
    {
     "name": "stdout",
     "output_type": "stream",
     "text": [
      "The weights are [ 0.10362787 -0.52926583 -0.46736163 -0.43400162 -0.92787722 -0.54676227\n",
      "  0.94109261  0.44674296  0.22983002 -1.57597617]\n",
      "\n",
      "The bias is [882.20216387]\n",
      "\n",
      "The mean squared error for 0 iteration is 29031.072333137996\n",
      "The mean squared error for 1 iteration is 28593.34601971344\n",
      "The mean squared error for 2 iteration is 28045.178915493925\n",
      "The mean squared error for 3 iteration is 27512.985052977245\n",
      "The mean squared error for 4 iteration is 26996.467810070077\n",
      "The mean squared error for 5 iteration is 26495.28592808634\n",
      "The mean squared error for 6 iteration is 26009.10488985784\n",
      "The mean squared error for 7 iteration is 25537.59679185842\n",
      "The mean squared error for 8 iteration is 25080.44021870872\n",
      "The mean squared error for 9 iteration is 24637.32012001748\n",
      "The mean squared error for 10 iteration is 24207.92768951637\n",
      "The mean squared error for 11 iteration is 23791.96024644602\n",
      "The mean squared error for 12 iteration is 23389.12111915162\n",
      "The mean squared error for 13 iteration is 22999.119530847485\n",
      "The mean squared error for 14 iteration is 22621.670487510328\n",
      "The mean squared error for 15 iteration is 22256.49466786223\n",
      "The mean squared error for 16 iteration is 21903.318315404373\n",
      "The mean squared error for 17 iteration is 21561.873132464094\n",
      "The mean squared error for 18 iteration is 21231.896176217706\n",
      "The mean squared error for 19 iteration is 20913.12975665288\n",
      "The mean squared error for 20 iteration is 20605.32133643461\n",
      "The mean squared error for 21 iteration is 20308.223432639665\n",
      "The mean squared error for 22 iteration is 20021.59352032505\n",
      "The mean squared error for 23 iteration is 19745.19393789652\n",
      "The mean squared error for 24 iteration is 19478.791794243974\n",
      "The mean squared error for 25 iteration is 19222.158877611026\n",
      "The mean squared error for 26 iteration is 18975.071566166742\n",
      "The mean squared error for 27 iteration is 18737.310740248096\n",
      "The mean squared error for 28 iteration is 18508.661696242245\n",
      "The mean squared error for 29 iteration is 18288.914062078333\n",
      "The mean squared error for 30 iteration is 18077.861714299055\n",
      "The mean squared error for 31 iteration is 17875.302696682826\n",
      "The mean squared error for 32 iteration is 17681.03914038782\n",
      "The mean squared error for 33 iteration is 17494.87718558978\n",
      "The mean squared error for 34 iteration is 17316.62690458599\n",
      "The mean squared error for 35 iteration is 17146.10222633826\n",
      "The mean squared error for 36 iteration is 16983.12086242829\n",
      "The mean squared error for 37 iteration is 16827.504234399425\n",
      "The mean squared error for 38 iteration is 16679.07740245891\n",
      "The mean squared error for 39 iteration is 16537.668995515724\n",
      "The mean squared error for 40 iteration is 16403.11114252912\n",
      "The mean squared error for 41 iteration is 16275.239405143679\n",
      "The mean squared error for 42 iteration is 16153.89271158702\n",
      "The mean squared error for 43 iteration is 16038.9132918069\n",
      "The mean squared error for 44 iteration is 15930.146613824601\n",
      "The mean squared error for 45 iteration is 15827.44132128224\n",
      "The mean squared error for 46 iteration is 15730.649172161791\n",
      "The mean squared error for 47 iteration is 15639.624978654156\n",
      "The mean squared error for 48 iteration is 15554.22654815702\n",
      "The mean squared error for 49 iteration is 15474.314625380508\n",
      "The mean squared error for 50 iteration is 15399.752835540172\n",
      "The mean squared error for 51 iteration is 15330.407628617166\n",
      "The mean squared error for 52 iteration is 15266.148224665802\n",
      "The mean squared error for 53 iteration is 15206.846560149097\n",
      "The mean squared error for 54 iteration is 15152.377235283266\n",
      "The mean squared error for 55 iteration is 15102.617462372438\n",
      "The mean squared error for 56 iteration is 15057.447015115235\n",
      "The mean squared error for 57 iteration is 15016.748178865231\n",
      "The mean squared error for 58 iteration is 14980.405701827545\n",
      "The mean squared error for 59 iteration is 14948.306747174263\n",
      "The mean squared error for 60 iteration is 14920.340846061594\n",
      "The mean squared error for 61 iteration is 14896.399851532089\n",
      "The mean squared error for 62 iteration is 14876.377893285431\n",
      "The mean squared error for 63 iteration is 14860.171333301732\n",
      "The mean squared error for 64 iteration is 14847.678722301513\n",
      "The mean squared error for 65 iteration is 14838.800757026787\n",
      "The mean squared error for 66 iteration is 14833.440238328083\n",
      "The mean squared error for 67 iteration is 14831.502030042342\n",
      "The mean squared error for 68 iteration is 14832.893018647117\n",
      "The mean squared error for 69 iteration is 14837.522073676546\n",
      "The mean squared error for 70 iteration is 14845.30000888503\n",
      "The mean squared error for 71 iteration is 14856.139544144695\n",
      "The mean squared error for 72 iteration is 14869.955268062986\n",
      "The mean squared error for 73 iteration is 14886.663601307033\n",
      "The mean squared error for 74 iteration is 14906.182760621663\n",
      "The mean squared error for 75 iteration is 14928.432723528113\n",
      "The mean squared error for 76 iteration is 14953.335193690868\n",
      "The mean squared error for 77 iteration is 14980.813566940096\n",
      "The mean squared error for 78 iteration is 15010.79289793761\n",
      "The mean squared error for 79 iteration is 15043.19986747426\n",
      "The mean squared error for 80 iteration is 15077.962750387092\n",
      "The mean squared error for 81 iteration is 15115.011384084753\n",
      "The mean squared error for 82 iteration is 15154.277137669711\n",
      "The mean squared error for 83 iteration is 15195.692881646333\n",
      "The mean squared error for 84 iteration is 15239.192958203783\n",
      "The mean squared error for 85 iteration is 15284.713152063112\n",
      "The mean squared error for 86 iteration is 15332.190661878032\n",
      "The mean squared error for 87 iteration is 15381.564072178999\n",
      "The mean squared error for 88 iteration is 15432.773325850556\n",
      "The mean squared error for 89 iteration is 15485.759697131958\n",
      "The mean squared error for 90 iteration is 15540.465765131336\n",
      "The mean squared error for 91 iteration is 15596.835387843827\n",
      "The mean squared error for 92 iteration is 15654.813676664287\n",
      "The mean squared error for 93 iteration is 15714.346971385345\n",
      "The mean squared error for 94 iteration is 15775.382815671743\n",
      "The mean squared error for 95 iteration is 15837.869933002119\n",
      "The mean squared error for 96 iteration is 15901.758203069454\n",
      "The mean squared error for 97 iteration is 15966.998638631649\n",
      "The mean squared error for 98 iteration is 16033.543362803874\n",
      "The mean squared error for 99 iteration is 16101.345586784346\n"
     ]
    }
   ],
   "source": [
    "#Instantiating the NN class \n",
    "model_nn=NN(X,y)\n",
    "#Using 100 iterations with a learn_rate of 0.001\n",
    "weights,bias,mean_squared_error=model_nn.fit(100,0.001)\n",
    "print(f'The weights are {weights}')\n",
    "print()\n",
    "print(f'The bias is {bias}')\n",
    "print()\n",
    "for i in range(len(mean_squared_error)):\n",
    "    print(f'The mean squared error for {i} iteration is {mean_squared_error[i]}')\n"
   ]
  },
  {
   "attachments": {},
   "cell_type": "markdown",
   "metadata": {},
   "source": [
    "Our results show a drop in mean_squared_error with every new iterative step taken but there also seems to be an increase after a while. To further explore this, we will visualize using the `plot_mse` method that takes in number of iterations and learn rate as arguments."
   ]
  },
  {
   "cell_type": "code",
   "execution_count": 22,
   "metadata": {},
   "outputs": [
    {
     "data": {
      "image/png": "[encoded data removed]",
      "text/plain": [
       "<Figure size 500x1000 with 1 Axes>"
      ]
     },
     "metadata": {},
     "output_type": "display_data"
    }
   ],
   "source": [
    "model_nn.plot_mse(100,0.01)"
   ]
  },
  {
   "attachments": {},
   "cell_type": "markdown",
   "metadata": {},
   "source": [
    "From our plot, there is an initial drastic drop in mean squared error creating a local minima value between 0 and 20 iterations after which the mean squared error value stabilizes. This is actually quite common in the training process and emphasizes the need to keep an eye out for changes as number iterations increases beacsuse the gradient descent algorithm seeks to pin point a global minima not a local minima.\n",
    "\n",
    "After 100 iterations, we achieve an MSE of 16101, which is quite high but considering the shallowness of the neural network may be acceptable."
   ]
  },
  {
   "attachments": {},
   "cell_type": "markdown",
   "metadata": {},
   "source": [
    "Next, we will try the linear regression class from sklearn"
   ]
  },
  {
   "cell_type": "code",
   "execution_count": 16,
   "metadata": {},
   "outputs": [],
   "source": [
    "#Instantiating the class and fitting the model\n",
    "model_lr=LinearRegression()\n",
    "model_lr.fit(X,y)\n",
    "y_pred=model_lr.predict(X)\n"
   ]
  },
  {
   "cell_type": "code",
   "execution_count": 19,
   "metadata": {},
   "outputs": [
    {
     "name": "stdout",
     "output_type": "stream",
     "text": [
      "2859.69634758675\n"
     ]
    }
   ],
   "source": [
    "print(metrics.mean_squared_error(y,y_pred))"
   ]
  },
  {
   "attachments": {},
   "cell_type": "markdown",
   "metadata": {},
   "source": [
    "Our linear regression model gives us an mse of 2859.69. A value slightly worse than that achieved by our NN model. This shows our NN model is a slightly better performer than a simple linear regression model. Although linear regression models are notorious for being underfitting an having a high bias, they are still a worthy opponent to know how well a newly created algorithm behaves."
   ]
  },
  {
   "cell_type": "markdown",
   "metadata": {},
   "source": []
  }
 ],
 "metadata": {
  "kernelspec": {
   "display_name": "neural-network",
   "language": "python",
   "name": "python3"
  },
  "language_info": {
   "codemirror_mode": {
    "name": "ipython",
    "version": 3
   },
   "file_extension": ".py",
   "mimetype": "text/x-python",
   "name": "python",
   "nbconvert_exporter": "python",
   "pygments_lexer": "ipython3",
   "version": "3.10.0"
  },
  "orig_nbformat": 4,
  "vscode": {
   "interpreter": {
    "hash": "9d37dac78cb704ea52072fba3d429b47266bff511f0cc2894a20bd162f9c0125"
   }
  }
 },
 "nbformat": 4,
 "nbformat_minor": 2
}
